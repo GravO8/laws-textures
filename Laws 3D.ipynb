{
 "cells": [
  {
   "cell_type": "markdown",
   "id": "4dcc5a14",
   "metadata": {},
   "source": [
    "# Laws textures 3D"
   ]
  },
  {
   "cell_type": "code",
   "execution_count": 1,
   "id": "81559937",
   "metadata": {},
   "outputs": [],
   "source": [
    "from tqdm import tqdm\n",
    "import numpy as np\n",
    "import torch\n",
    "import torch.nn as nn\n",
    "import torch.optim as optim\n",
    "import torch.utils.data as data\n",
    "import torchvision.transforms as transforms\n",
    "\n",
    "import medmnist\n",
    "from medmnist import INFO, Evaluator"
   ]
  },
  {
   "cell_type": "markdown",
   "id": "4ee4264a",
   "metadata": {},
   "source": [
    "## Load the train set"
   ]
  },
  {
   "cell_type": "code",
   "execution_count": 2,
   "id": "dca541af",
   "metadata": {},
   "outputs": [
    {
     "name": "stdout",
     "output_type": "stream",
     "text": [
      "Using downloaded and verified file: /Users/gravo/.medmnist/nodulemnist3d.npz\n"
     ]
    }
   ],
   "source": [
    "data_flag = 'NoduleMNIST3D'.lower()\n",
    "download = True\n",
    "BATCH_SIZE = 4\n",
    "\n",
    "info = INFO[data_flag]\n",
    "DataClass = getattr(medmnist, info['python_class'])\n",
    "\n",
    "# load the data\n",
    "train_dataset = DataClass(split='train',  download=download)\n",
    "\n",
    "# encapsulate data into dataloader form\n",
    "train_loader = data.DataLoader(dataset = train_dataset, batch_size = BATCH_SIZE, shuffle = True)"
   ]
  },
  {
   "cell_type": "markdown",
   "id": "5468fac1",
   "metadata": {},
   "source": [
    "### Compute the train set features"
   ]
  },
  {
   "cell_type": "code",
   "execution_count": 3,
   "id": "3757254f",
   "metadata": {},
   "outputs": [
    {
     "name": "stderr",
     "output_type": "stream",
     "text": [
      "100%|██████████| 290/290 [09:46<00:00,  2.02s/it]\n"
     ]
    }
   ],
   "source": [
    "from feature_maps import laws_textures\n",
    "\n",
    "trainset = []\n",
    "laws = laws_textures()\n",
    "\n",
    "for batch in tqdm(train_loader):\n",
    "    for i in range(len(batch[1])):\n",
    "        sample = {}\n",
    "        sample[\"image\"] = batch[0][i].squeeze()\n",
    "        sample[\"label\"] = batch[1][i]\n",
    "        sample[\"laws\"] = laws.get_features(sample[\"image\"])\n",
    "        trainset.append(sample)"
   ]
  },
  {
   "cell_type": "code",
   "execution_count": 4,
   "id": "83c043a0",
   "metadata": {},
   "outputs": [],
   "source": [
    "for sample in trainset:\n",
    "    features = []\n",
    "    for i in range(sample[\"laws\"].shape[-1]):\n",
    "        features.append( sample[\"laws\"][...,i].mean() )\n",
    "        features.append( sample[\"laws\"][...,i].std() )\n",
    "    sample[\"features\"] = features"
   ]
  },
  {
   "cell_type": "code",
   "execution_count": 5,
   "id": "1e468cba",
   "metadata": {},
   "outputs": [
    {
     "name": "stdout",
     "output_type": "stream",
     "text": [
      "Data distribution [863 295]\n"
     ]
    }
   ],
   "source": [
    "X = [sample[\"features\"] for sample in trainset]\n",
    "Y = [sample[\"label\"].numpy()[0] for sample in trainset]\n",
    "\n",
    "_, c = np.unique(Y, return_counts = True)\n",
    "print(\"Data distribution\", c)"
   ]
  },
  {
   "cell_type": "markdown",
   "id": "439f337c",
   "metadata": {},
   "source": [
    "## Train the classifier"
   ]
  },
  {
   "cell_type": "code",
   "execution_count": 6,
   "id": "fecec8c0",
   "metadata": {},
   "outputs": [
    {
     "data": {
      "text/plain": [
       "LogisticRegression(max_iter=10000)"
      ]
     },
     "execution_count": 6,
     "metadata": {},
     "output_type": "execute_result"
    }
   ],
   "source": [
    "from sklearn.linear_model import LogisticRegression\n",
    "\n",
    "lr = LogisticRegression(max_iter = 10000)\n",
    "lr.fit(X, Y)"
   ]
  },
  {
   "cell_type": "code",
   "execution_count": 7,
   "id": "8009d38c",
   "metadata": {},
   "outputs": [
    {
     "data": {
      "text/plain": [
       "{'accuracy': 0.8281519861830743,\n",
       " 'precision': 0.7891566265060241,\n",
       " 'recall': 0.4440677966101695,\n",
       " 'f1-score': 0.5683297180043385,\n",
       " 'auc': 0.7887267513796963}"
      ]
     },
     "execution_count": 7,
     "metadata": {},
     "output_type": "execute_result"
    }
   ],
   "source": [
    "import sklearn.metrics as metrics\n",
    "\n",
    "def compute_metrics(y_true, y_prob):\n",
    "    y_pred      = (y_prob > .5).astype(int)\n",
    "    accuracy    = metrics.accuracy_score    (y_true = y_true, y_pred = y_pred)\n",
    "    precision   = metrics.precision_score   (y_true = y_true, y_pred = y_pred)\n",
    "    recall      = metrics.recall_score      (y_true = y_true, y_pred = y_pred)\n",
    "    f1_score    = metrics.f1_score          (y_true = y_true, y_pred = y_pred)\n",
    "    auc         = metrics.roc_auc_score     (y_true = y_true, y_score = y_prob)\n",
    "    return {\"accuracy\": accuracy, \"precision\": precision, \n",
    "            \"recall\": recall, \"f1-score\": f1_score, \"auc\": auc}\n",
    "\n",
    "prob = lr.predict_proba(X)\n",
    "compute_metrics(Y, prob[:,1])"
   ]
  },
  {
   "cell_type": "markdown",
   "id": "e5c9c487",
   "metadata": {},
   "source": [
    "## Test the classifier"
   ]
  },
  {
   "cell_type": "code",
   "execution_count": 8,
   "id": "98fc389c",
   "metadata": {},
   "outputs": [
    {
     "name": "stdout",
     "output_type": "stream",
     "text": [
      "Using downloaded and verified file: /Users/gravo/.medmnist/nodulemnist3d.npz\n"
     ]
    }
   ],
   "source": [
    "data_flag = 'NoduleMNIST3D'.lower()\n",
    "download = True\n",
    "BATCH_SIZE = 4\n",
    "\n",
    "info = INFO[data_flag]\n",
    "DataClass = getattr(medmnist, info['python_class'])\n",
    "\n",
    "# load the data\n",
    "test_dataset = DataClass(split='test',  download=download)\n",
    "\n",
    "# encapsulate data into dataloader form\n",
    "test_loader = data.DataLoader(dataset = test_dataset, batch_size = BATCH_SIZE, shuffle = True)"
   ]
  },
  {
   "cell_type": "code",
   "execution_count": 9,
   "id": "fbec6548",
   "metadata": {},
   "outputs": [
    {
     "name": "stderr",
     "output_type": "stream",
     "text": [
      "100%|██████████| 78/78 [02:47<00:00,  2.15s/it]\n"
     ]
    }
   ],
   "source": [
    "testset = []\n",
    "laws = laws_textures()\n",
    "\n",
    "for batch in tqdm(test_loader):\n",
    "    for i in range(len(batch[1])):\n",
    "        sample = {}\n",
    "        sample[\"image\"] = batch[0][i].squeeze()\n",
    "        sample[\"label\"] = batch[1][i]\n",
    "        sample[\"laws\"] = laws.get_features(sample[\"image\"])\n",
    "        testset.append(sample)"
   ]
  },
  {
   "cell_type": "code",
   "execution_count": 10,
   "id": "e2fbae33",
   "metadata": {},
   "outputs": [],
   "source": [
    "for sample in testset:\n",
    "    features = []\n",
    "    for i in range(sample[\"laws\"].shape[-1]):\n",
    "        features.append( sample[\"laws\"][...,i].mean() )\n",
    "        features.append( sample[\"laws\"][...,i].std() )\n",
    "    sample[\"features\"] = features"
   ]
  },
  {
   "cell_type": "code",
   "execution_count": 11,
   "id": "4acc5f26",
   "metadata": {},
   "outputs": [
    {
     "name": "stdout",
     "output_type": "stream",
     "text": [
      "Data distribution [246  64]\n"
     ]
    }
   ],
   "source": [
    "X_test = [sample[\"features\"] for sample in testset]\n",
    "Y_test = [sample[\"label\"].numpy()[0] for sample in testset]\n",
    "\n",
    "_, c = np.unique(Y_test, return_counts = True)\n",
    "print(\"Data distribution\", c)"
   ]
  },
  {
   "cell_type": "code",
   "execution_count": 12,
   "id": "e736d7f9",
   "metadata": {},
   "outputs": [
    {
     "data": {
      "text/plain": [
       "{'accuracy': 0.832258064516129,\n",
       " 'precision': 0.65,\n",
       " 'recall': 0.40625,\n",
       " 'f1-score': 0.5000000000000001,\n",
       " 'auc': 0.7231326219512195}"
      ]
     },
     "execution_count": 12,
     "metadata": {},
     "output_type": "execute_result"
    }
   ],
   "source": [
    "prob_test = lr.predict_proba(X_test)\n",
    "compute_metrics(Y_test, prob_test[:,1])"
   ]
  },
  {
   "cell_type": "code",
   "execution_count": null,
   "id": "7b6632f5",
   "metadata": {},
   "outputs": [],
   "source": []
  }
 ],
 "metadata": {
  "kernelspec": {
   "display_name": "Python 3",
   "language": "python",
   "name": "python3"
  },
  "language_info": {
   "codemirror_mode": {
    "name": "ipython",
    "version": 3
   },
   "file_extension": ".py",
   "mimetype": "text/x-python",
   "name": "python",
   "nbconvert_exporter": "python",
   "pygments_lexer": "ipython3",
   "version": "3.7.4"
  }
 },
 "nbformat": 4,
 "nbformat_minor": 5
}
