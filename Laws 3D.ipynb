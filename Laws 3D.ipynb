{
 "cells": [
  {
   "cell_type": "markdown",
   "id": "6ab1bce1",
   "metadata": {},
   "source": [
    "# Laws textures 3D"
   ]
  },
  {
   "cell_type": "code",
   "execution_count": 1,
   "id": "8d40f394",
   "metadata": {},
   "outputs": [],
   "source": [
    "from tqdm import tqdm\n",
    "import numpy as np\n",
    "import torch\n",
    "import torch.nn as nn\n",
    "import torch.optim as optim\n",
    "import torch.utils.data as data\n",
    "import torchvision.transforms as transforms\n",
    "\n",
    "import medmnist\n",
    "from medmnist import INFO, Evaluator"
   ]
  },
  {
   "cell_type": "code",
   "execution_count": 6,
   "id": "f3780b10",
   "metadata": {},
   "outputs": [
    {
     "name": "stdout",
     "output_type": "stream",
     "text": [
      "Using downloaded and verified file: /Users/gravo/.medmnist/nodulemnist3d.npz\n"
     ]
    }
   ],
   "source": [
    "data_flag = 'NoduleMNIST3D'.lower()\n",
    "download = True\n",
    "BATCH_SIZE = 4\n",
    "\n",
    "info = INFO[data_flag]\n",
    "DataClass = getattr(medmnist, info['python_class'])\n",
    "\n",
    "# load the data\n",
    "train_dataset = DataClass(split='train',  download=download)\n",
    "\n",
    "# encapsulate data into dataloader form\n",
    "train_loader = data.DataLoader(dataset = train_dataset, batch_size = BATCH_SIZE, shuffle = True)"
   ]
  },
  {
   "cell_type": "code",
   "execution_count": 39,
   "id": "eeac6ce5",
   "metadata": {},
   "outputs": [
    {
     "name": "stderr",
     "output_type": "stream",
     "text": [
      "100%|██████████| 290/290 [09:37<00:00,  1.99s/it]\n"
     ]
    }
   ],
   "source": [
    "from feature_maps import laws_textures\n",
    "\n",
    "trainset = []\n",
    "laws = laws_textures()\n",
    "\n",
    "for batch in tqdm(train_loader):\n",
    "    for i in range(len(batch[1])):\n",
    "        sample = {}\n",
    "        sample[\"image\"] = batch[0][i].squeeze()\n",
    "        sample[\"label\"] = batch[1][i]\n",
    "        sample[\"laws\"] = laws.get_features(sample[\"image\"])\n",
    "        trainset.append(sample)"
   ]
  },
  {
   "cell_type": "code",
   "execution_count": 40,
   "id": "92a56e13",
   "metadata": {},
   "outputs": [],
   "source": [
    "for sample in trainset:\n",
    "    features = []\n",
    "    for i in range(sample[\"laws\"].shape[-1]):\n",
    "        features.append( sample[\"laws\"][...,i].mean() )\n",
    "        features.append( sample[\"laws\"][...,i].std() )\n",
    "    sample[\"features\"] = features"
   ]
  },
  {
   "cell_type": "code",
   "execution_count": 51,
   "id": "ca7f2b9e",
   "metadata": {},
   "outputs": [
    {
     "name": "stdout",
     "output_type": "stream",
     "text": [
      "Data distribution [863 295]\n"
     ]
    }
   ],
   "source": [
    "X = [sample[\"features\"] for sample in trainset]\n",
    "Y = [sample[\"label\"].numpy()[0] for sample in trainset]\n",
    "\n",
    "_, c = np.unique(Y, return_counts = True)\n",
    "print(\"Data distribution\", c)"
   ]
  },
  {
   "cell_type": "code",
   "execution_count": 48,
   "id": "43497ac9",
   "metadata": {},
   "outputs": [
    {
     "data": {
      "text/plain": [
       "LogisticRegression(max_iter=10000)"
      ]
     },
     "execution_count": 48,
     "metadata": {},
     "output_type": "execute_result"
    }
   ],
   "source": [
    "from sklearn.linear_model import LogisticRegression\n",
    "\n",
    "lr = LogisticRegression(max_iter = 10000)\n",
    "lr.fit(X, Y)"
   ]
  },
  {
   "cell_type": "code",
   "execution_count": 49,
   "id": "c6d9ee78",
   "metadata": {},
   "outputs": [
    {
     "data": {
      "text/plain": [
       "{'accuracy': 0.8307426597582038,\n",
       " 'precision': 0.7894736842105263,\n",
       " 'recall': 0.4576271186440678,\n",
       " 'f1-score': 0.5793991416309013,\n",
       " 'auc': 0.7904550543040634}"
      ]
     },
     "execution_count": 49,
     "metadata": {},
     "output_type": "execute_result"
    }
   ],
   "source": [
    "import sklearn.metrics as metrics\n",
    "\n",
    "def compute_metrics(y_true, y_prob):\n",
    "    y_pred      = (y_prob > .5).astype(int)\n",
    "    accuracy    = metrics.accuracy_score    (y_true = y_true, y_pred = y_pred)\n",
    "    precision   = metrics.precision_score   (y_true = y_true, y_pred = y_pred)\n",
    "    recall      = metrics.recall_score      (y_true = y_true, y_pred = y_pred)\n",
    "    f1_score    = metrics.f1_score          (y_true = y_true, y_pred = y_pred)\n",
    "    auc         = metrics.roc_auc_score     (y_true = y_true, y_score = y_prob)\n",
    "    return {\"accuracy\": accuracy, \"precision\": precision, \n",
    "            \"recall\": recall, \"f1-score\": f1_score, \"auc\": auc}\n",
    "\n",
    "prob = lr.predict_proba(X)\n",
    "compute_metrics(Y, prob[:,1])"
   ]
  },
  {
   "cell_type": "markdown",
   "id": "d684eddc",
   "metadata": {},
   "source": [
    "## Test the classifier"
   ]
  },
  {
   "cell_type": "code",
   "execution_count": 52,
   "id": "06bdf231",
   "metadata": {},
   "outputs": [
    {
     "name": "stdout",
     "output_type": "stream",
     "text": [
      "Using downloaded and verified file: /Users/gravo/.medmnist/nodulemnist3d.npz\n"
     ]
    }
   ],
   "source": [
    "data_flag = 'NoduleMNIST3D'.lower()\n",
    "download = True\n",
    "BATCH_SIZE = 4\n",
    "\n",
    "info = INFO[data_flag]\n",
    "DataClass = getattr(medmnist, info['python_class'])\n",
    "\n",
    "# load the data\n",
    "test_dataset = DataClass(split='test',  download=download)\n",
    "\n",
    "# encapsulate data into dataloader form\n",
    "test_loader = data.DataLoader(dataset = test_dataset, batch_size = BATCH_SIZE, shuffle = True)"
   ]
  },
  {
   "cell_type": "code",
   "execution_count": 53,
   "id": "cb333a2b",
   "metadata": {},
   "outputs": [
    {
     "name": "stderr",
     "output_type": "stream",
     "text": [
      "100%|██████████| 78/78 [02:48<00:00,  2.16s/it]\n"
     ]
    }
   ],
   "source": [
    "testset = []\n",
    "laws = laws_textures()\n",
    "\n",
    "for batch in tqdm(test_loader):\n",
    "    for i in range(len(batch[1])):\n",
    "        sample = {}\n",
    "        sample[\"image\"] = batch[0][i].squeeze()\n",
    "        sample[\"label\"] = batch[1][i]\n",
    "        sample[\"laws\"] = laws.get_features(sample[\"image\"])\n",
    "        testset.append(sample)"
   ]
  },
  {
   "cell_type": "code",
   "execution_count": 54,
   "id": "155947f8",
   "metadata": {},
   "outputs": [],
   "source": [
    "for sample in testset:\n",
    "    features = []\n",
    "    for i in range(sample[\"laws\"].shape[-1]):\n",
    "        features.append( sample[\"laws\"][...,i].mean() )\n",
    "        features.append( sample[\"laws\"][...,i].std() )\n",
    "    sample[\"features\"] = features"
   ]
  },
  {
   "cell_type": "code",
   "execution_count": 55,
   "id": "e0fbe953",
   "metadata": {},
   "outputs": [
    {
     "name": "stdout",
     "output_type": "stream",
     "text": [
      "Data distribution [246  64]\n"
     ]
    }
   ],
   "source": [
    "X_test = [sample[\"features\"] for sample in testset]\n",
    "Y_test = [sample[\"label\"].numpy()[0] for sample in testset]\n",
    "\n",
    "_, c = np.unique(Y_test, return_counts = True)\n",
    "print(\"Data distribution\", c)"
   ]
  },
  {
   "cell_type": "code",
   "execution_count": 56,
   "id": "4e154406",
   "metadata": {},
   "outputs": [
    {
     "data": {
      "text/plain": [
       "{'accuracy': 0.8258064516129032,\n",
       " 'precision': 0.625,\n",
       " 'recall': 0.390625,\n",
       " 'f1-score': 0.4807692307692308,\n",
       " 'auc': 0.72510162601626}"
      ]
     },
     "execution_count": 56,
     "metadata": {},
     "output_type": "execute_result"
    }
   ],
   "source": [
    "prob_test = lr.predict_proba(X_test)\n",
    "compute_metrics(Y_test, prob_test[:,1])"
   ]
  },
  {
   "cell_type": "code",
   "execution_count": null,
   "id": "fff13490",
   "metadata": {},
   "outputs": [],
   "source": []
  }
 ],
 "metadata": {
  "kernelspec": {
   "display_name": "Python 3",
   "language": "python",
   "name": "python3"
  },
  "language_info": {
   "codemirror_mode": {
    "name": "ipython",
    "version": 3
   },
   "file_extension": ".py",
   "mimetype": "text/x-python",
   "name": "python",
   "nbconvert_exporter": "python",
   "pygments_lexer": "ipython3",
   "version": "3.7.4"
  }
 },
 "nbformat": 4,
 "nbformat_minor": 5
}
